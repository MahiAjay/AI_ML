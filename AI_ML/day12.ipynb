{
 "cells": [
  {
   "cell_type": "code",
   "execution_count": 1,
   "metadata": {},
   "outputs": [],
   "source": [
    "#summary\n",
    "#####################\n",
    "# Image Acquire\n",
    "# Color Plane Extraction & Gray Conversion\n",
    "# Image Subtraction to fetch specific color\n",
    "# Thresholding to convert to BW - CRITICAL\n",
    "# Area/Reagion of Interest (ROI)\n",
    "      # Dilation/Erosion/Opening/Closing(combinations)\n",
    "      # Noise Removal/Holes Filling\n",
    "# Find the region properties\n",
    "      #label the image\n",
    "      #Regionprops(bounding Box) (y1,x1, y2,x2)\n",
    "# Draw the rectangle over Original image based on bbox            "
   ]
  },
  {
   "cell_type": "code",
   "execution_count": 6,
   "metadata": {},
   "outputs": [],
   "source": [
    "# Live Image Capturing\n",
    "import cv2\n",
    "vid=cv2.VideoCapture(0)\n",
    "while True:\n",
    "    ack, img=vid.read()\n",
    "    if ack:\n",
    "        # do the entire processing\n",
    "        # ............\n",
    "        cv2.imshow('Preview',img) #depends on requirement\n",
    "        key=cv2.waitKey(1)\n",
    "        if key == ord('x'):\n",
    "            break\n",
    "cv2.destroyAllWindows()\n",
    "vid.release()\n",
    "        "
   ]
  },
  {
   "cell_type": "code",
   "execution_count": 12,
   "metadata": {},
   "outputs": [],
   "source": [
    "# Live Image Capturing\n",
    "import cv2, skimage as ski\n",
    "vid=cv2.VideoCapture(0)\n",
    "while True:\n",
    "    ack, img=vid.read()\n",
    "    if ack:\n",
    "        th, red_bw=cv2.threshold(\n",
    "            cv2.subtract(\n",
    "                img[:,:,-1], cv2.cvtColor(img,cv2.COLOR_BGR2GRAY)\n",
    "            ), 80,255,cv2.THRESH_BINARY\n",
    "        )\n",
    "        strel=cv2.getStructuringElement(cv2.MORPH_RECT,(20,20))\n",
    "        red_bw=cv2.morphologyEx(\n",
    "            red_bw,cv2.MORPH_CLOSE, strel, iterations=1\n",
    "        )\n",
    "        red_bw=ski.morphology.remove_small_objects(\n",
    "            red_bw.astype(bool),300\n",
    "        ).astype('uint8')*255\n",
    "        red_bw=ski.morphology.remove_small_holes(\n",
    "            red_bw.astype(bool),300\n",
    "        ).astype('uint8')*255\n",
    "        rps=ski.measure.regionprops(\n",
    "            ski.measure.label(red_bw.astype(bool))\n",
    "        )\n",
    "        count=len(rps)\n",
    "        img_copy=img.copy()\n",
    "        cv2.putText(img_copy,str(count),(150,150),\n",
    "                    cv2.FONT_HERSHEY_PLAIN,4,(0,0,255),thickness=10)\n",
    "        for rp in rps:\n",
    "            y1,x1,y2,x2=rp.bbox\n",
    "            cv2.rectangle(img_copy,(x1,y1),(x2,y2),(255,0,0),thickness=5)\n",
    "        \n",
    "        #cv2.imshow('Preview',red_bw)\n",
    "        cv2.imshow('Preview',img_copy)#depends on requirement\n",
    "        key=cv2.waitKey(1)\n",
    "        if key == ord('x'):\n",
    "            break\n",
    "cv2.destroyAllWindows(); cv2.waitKey(1)\n",
    "vid.release()"
   ]
  },
  {
   "cell_type": "code",
   "execution_count": 14,
   "metadata": {},
   "outputs": [],
   "source": [
    "#Face Detection -----------Viola jones algo (Haarcascade features)\n",
    "\n",
    "import cv2\n",
    "fd = cv2.CascadeClassifier(\n",
    "    cv2.data.haarcascades + 'haarcascade_frontalface_default.xml'\n",
    ")\n",
    "vid=cv2.VideoCapture(0)\n",
    "while True:\n",
    "    ack, img=vid.read()\n",
    "    if ack:\n",
    "        faces=fd.detectMultiScale(img,1.2,10)\n",
    "        for x,y,w,h in faces:\n",
    "            cv2.rectangle(img,(x,y),(x+w,y+h),(255,255,255),10)\n",
    "        \n",
    "        cv2.imshow('Preview',img) #depends on requirement\n",
    "        key=cv2.waitKey(1)\n",
    "        if key == ord('x'):\n",
    "            break\n",
    "cv2.destroyAllWindows(); cv2.waitKey(1)\n",
    "vid.release()"
   ]
  },
  {
   "cell_type": "code",
   "execution_count": 15,
   "metadata": {},
   "outputs": [],
   "source": [
    "#Face Detection ----------- save the face image to computer\n",
    "\n",
    "import cv2\n",
    "fd = cv2.CascadeClassifier(\n",
    "    cv2.data.haarcascades + 'haarcascade_frontalface_default.xml'\n",
    ")\n",
    "vid=cv2.VideoCapture(0)\n",
    "while True:\n",
    "    ack, img=vid.read()\n",
    "    if ack:\n",
    "        faces=fd.detectMultiScale(img,1.2,10)\n",
    "        if len(faces)==1:\n",
    "            for x,y,w,h in faces:\n",
    "                cv2.rectangle(img,(x,y),(x+w,y+h),(255,255,255),10)\n",
    "            face_img=img[y:y+h,x:x+w,:].copy()\n",
    "            cv2.imwrite('face.png',face_img)    \n",
    "        \n",
    "        cv2.imshow('Preview',img) #depends on requirement\n",
    "        key=cv2.waitKey(1)\n",
    "        if key == ord('x'):\n",
    "            break\n",
    "cv2.destroyAllWindows(); cv2.waitKey(1)\n",
    "vid.release()"
   ]
  },
  {
   "cell_type": "code",
   "execution_count": 18,
   "metadata": {},
   "outputs": [],
   "source": [
    "#Face Detection ----------- save the face image to computer\n",
    "\n",
    "import cv2\n",
    "fd = cv2.CascadeClassifier(\n",
    "    cv2.data.haarcascades + 'haarcascade_frontalface_default.xml'\n",
    ")\n",
    "vid=cv2.VideoCapture(0)\n",
    "counter= 0\n",
    "while True:\n",
    "    ack, img=vid.read()\n",
    "    if ack:\n",
    "        faces=fd.detectMultiScale(img,1.2,10)\n",
    "        if len(faces)==1:\n",
    "            for x,y,w,h in faces:\n",
    "                cv2.rectangle(img,(x,y),(x+w,y+h),(255,255,255),10)\n",
    "            face_img=img[y:y+h,x:x+w,:].copy()\n",
    "            cv2.imwrite(\n",
    "                r'faces/mahi/face_{0}.png'.format(counter),face_img)    \n",
    "        \n",
    "        cv2.imshow('Preview',img) #depends on requirement\n",
    "        key=cv2.waitKey(1)\n",
    "        if key == ord('x'):\n",
    "            break\n",
    "cv2.destroyAllWindows(); cv2.waitKey(1)\n",
    "vid.release()"
   ]
  },
  {
   "cell_type": "code",
   "execution_count": 17,
   "metadata": {},
   "outputs": [
    {
     "name": "stdout",
     "output_type": "stream",
     "text": [
      "^C\n"
     ]
    }
   ],
   "source": [
    "!python -m pip install face_recognition"
   ]
  },
  {
   "cell_type": "code",
   "execution_count": null,
   "metadata": {},
   "outputs": [],
   "source": []
  }
 ],
 "metadata": {
  "kernelspec": {
   "display_name": "Python 3",
   "language": "python",
   "name": "python3"
  },
  "language_info": {
   "codemirror_mode": {
    "name": "ipython",
    "version": 3
   },
   "file_extension": ".py",
   "mimetype": "text/x-python",
   "name": "python",
   "nbconvert_exporter": "python",
   "pygments_lexer": "ipython3",
   "version": "3.9.6"
  },
  "orig_nbformat": 4
 },
 "nbformat": 4,
 "nbformat_minor": 2
}
