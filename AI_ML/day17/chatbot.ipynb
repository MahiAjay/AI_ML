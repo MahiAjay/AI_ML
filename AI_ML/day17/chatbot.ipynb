{
 "cells": [
  {
   "cell_type": "code",
   "execution_count": 1,
   "metadata": {},
   "outputs": [
    {
     "name": "stdout",
     "output_type": "stream",
     "text": [
      "Collecting nltk\n",
      "  Downloading nltk-3.8.1-py3-none-any.whl (1.5 MB)\n",
      "Collecting joblib\n",
      "  Downloading joblib-1.3.2-py3-none-any.whl (302 kB)\n",
      "Collecting regex>=2021.8.3\n",
      "  Downloading regex-2023.8.8-cp39-cp39-win_amd64.whl (268 kB)\n",
      "Collecting tqdm\n",
      "  Downloading tqdm-4.66.1-py3-none-any.whl (78 kB)\n",
      "Requirement already satisfied: click in c:\\users\\asus\\appdata\\local\\programs\\python\\python39\\lib\\site-packages (from nltk) (8.0.1)\n",
      "Requirement already satisfied: colorama in c:\\users\\asus\\appdata\\local\\programs\\python\\python39\\lib\\site-packages (from click->nltk) (0.4.4)\n",
      "Installing collected packages: tqdm, regex, joblib, nltk\n",
      "Successfully installed joblib-1.3.2 nltk-3.8.1 regex-2023.8.8 tqdm-4.66.1\n"
     ]
    },
    {
     "name": "stderr",
     "output_type": "stream",
     "text": [
      "WARNING: You are using pip version 21.1.3; however, version 23.2.1 is available.\n",
      "You should consider upgrading via the 'c:\\Users\\ASUS\\AppData\\Local\\Programs\\Python\\Python39\\python.exe -m pip install --upgrade pip' command.\n"
     ]
    }
   ],
   "source": [
    "!python -m pip install nltk"
   ]
  },
  {
   "cell_type": "code",
   "execution_count": 2,
   "metadata": {},
   "outputs": [
    {
     "name": "stdout",
     "output_type": "stream",
     "text": [
      "Collecting pyttsx3\n",
      "  Downloading pyttsx3-2.90-py3-none-any.whl (39 kB)\n",
      "Collecting pypiwin32\n",
      "  Downloading pypiwin32-223-py3-none-any.whl (1.7 kB)\n",
      "Requirement already satisfied: pywin32 in c:\\users\\asus\\appdata\\local\\programs\\python\\python39\\lib\\site-packages (from pyttsx3) (306)\n",
      "Collecting comtypes\n",
      "  Downloading comtypes-1.2.0-py2.py3-none-any.whl (184 kB)\n",
      "Installing collected packages: pypiwin32, comtypes, pyttsx3\n",
      "Successfully installed comtypes-1.2.0 pypiwin32-223 pyttsx3-2.90\n"
     ]
    },
    {
     "name": "stderr",
     "output_type": "stream",
     "text": [
      "WARNING: You are using pip version 21.1.3; however, version 23.2.1 is available.\n",
      "You should consider upgrading via the 'c:\\Users\\ASUS\\AppData\\Local\\Programs\\Python\\Python39\\python.exe -m pip install --upgrade pip' command.\n"
     ]
    },
    {
     "name": "stdout",
     "output_type": "stream",
     "text": [
      "Collecting SpeechRecognition\n",
      "  Downloading SpeechRecognition-3.10.0-py2.py3-none-any.whl (32.8 MB)\n",
      "Requirement already satisfied: requests>=2.26.0 in c:\\users\\asus\\appdata\\local\\programs\\python\\python39\\lib\\site-packages (from SpeechRecognition) (2.31.0)\n",
      "Requirement already satisfied: certifi>=2017.4.17 in c:\\users\\asus\\appdata\\local\\programs\\python\\python39\\lib\\site-packages (from requests>=2.26.0->SpeechRecognition) (2023.7.22)\n",
      "Requirement already satisfied: idna<4,>=2.5 in c:\\users\\asus\\appdata\\local\\programs\\python\\python39\\lib\\site-packages (from requests>=2.26.0->SpeechRecognition) (3.4)\n",
      "Requirement already satisfied: charset-normalizer<4,>=2 in c:\\users\\asus\\appdata\\local\\programs\\python\\python39\\lib\\site-packages (from requests>=2.26.0->SpeechRecognition) (3.2.0)\n",
      "Requirement already satisfied: urllib3<3,>=1.21.1 in c:\\users\\asus\\appdata\\local\\programs\\python\\python39\\lib\\site-packages (from requests>=2.26.0->SpeechRecognition) (1.26.16)\n",
      "Installing collected packages: SpeechRecognition\n",
      "Successfully installed SpeechRecognition-3.10.0\n"
     ]
    },
    {
     "name": "stderr",
     "output_type": "stream",
     "text": [
      "WARNING: You are using pip version 21.1.3; however, version 23.2.1 is available.\n",
      "You should consider upgrading via the 'c:\\Users\\ASUS\\AppData\\Local\\Programs\\Python\\Python39\\python.exe -m pip install --upgrade pip' command.\n"
     ]
    }
   ],
   "source": [
    "!python -m pip install pyttsx3\n",
    "!python -m pip install SpeechRecognition"
   ]
  },
  {
   "cell_type": "code",
   "execution_count": 3,
   "metadata": {},
   "outputs": [
    {
     "name": "stdout",
     "output_type": "stream",
     "text": [
      "Collecting pyaudio\n",
      "  Downloading PyAudio-0.2.13-cp39-cp39-win_amd64.whl (164 kB)\n",
      "Installing collected packages: pyaudio\n",
      "Successfully installed pyaudio-0.2.13\n"
     ]
    },
    {
     "name": "stderr",
     "output_type": "stream",
     "text": [
      "WARNING: You are using pip version 21.1.3; however, version 23.2.1 is available.\n",
      "You should consider upgrading via the 'c:\\Users\\ASUS\\AppData\\Local\\Programs\\Python\\Python39\\python.exe -m pip install --upgrade pip' command.\n"
     ]
    }
   ],
   "source": [
    "!python -m pip install pyaudio"
   ]
  },
  {
   "cell_type": "code",
   "execution_count": 1,
   "metadata": {},
   "outputs": [],
   "source": [
    "import speech_recognition as sr\n",
    "import cv2\n",
    "import nltk\n",
    "import pyttsx3"
   ]
  },
  {
   "cell_type": "code",
   "execution_count": 3,
   "metadata": {},
   "outputs": [],
   "source": [
    "#human recognition\n",
    "\n",
    "hog = cv2.HOGDescriptor()\n",
    "hog.setSVMDetector(cv2.HOGDescriptor_getDefaultPeopleDetector())\n",
    "vid=cv2.VideoCapture(index=0)\n",
    "while True:\n",
    "    ack,img=vid.read()\n",
    "    if ack:\n",
    "        people,weights=hog.detectMultiScale(\n",
    "            cv2.cvtColor(img,cv2.COLOR_BGR2GRAY),winStride=(15,15)\n",
    "        )\n",
    "        for x,y,w,h in people:\n",
    "            cv2.rectangle(\n",
    "                img,pt1=(x,y),pt2=(x+w,y+h),color=(0,0,255),thickness=5\n",
    "            )\n",
    "        cv2.imshow('Preview',img)\n",
    "        if cv2.waitKey(delay=1)==ord('x'):\n",
    "            break\n",
    "cv2.destroyAllWindows();cv2.waitKey(1)         \n",
    "vid.release()   "
   ]
  },
  {
   "cell_type": "code",
   "execution_count": 4,
   "metadata": {},
   "outputs": [],
   "source": [
    "#rule based chatbot"
   ]
  },
  {
   "cell_type": "code",
   "execution_count": 8,
   "metadata": {},
   "outputs": [],
   "source": [
    "tts=pyttsx3.init()\n",
    "tts.setProperty('rate',100)\n"
   ]
  },
  {
   "cell_type": "code",
   "execution_count": 9,
   "metadata": {},
   "outputs": [],
   "source": [
    "tts.say('Hello! I am speaking for you from your computer')\n",
    "tts.runAndWait()"
   ]
  },
  {
   "cell_type": "code",
   "execution_count": 26,
   "metadata": {},
   "outputs": [
    {
     "name": "stdout",
     "output_type": "stream",
     "text": [
      "Speak:\n",
      "Speak:\n",
      "Speak:\n",
      "\n",
      "Speak:\n"
     ]
    }
   ],
   "source": [
    "#speech recognition\n",
    "import speech_recognition as sr\n",
    "import pyttsx3\n",
    "import webbrowser as web\n",
    "import warnings;warnings.filterwarnings('ignore')\n",
    "rec=sr.Recognizer()\n",
    "flag=False\n",
    "while True:\n",
    "    with sr.Microphone() as mic:\n",
    "     print('Speak:')\n",
    "     audio=rec.listen(mic,phrase_time_limit=3,timeout=5)\n",
    "    try:\n",
    "        text=rec.recognize_google(audio).lower()\n",
    "        if flag == True:\n",
    "            if 'search' in text:\n",
    "                text='search iphone '\n",
    "                item=text.split('search')[-1].strip()\n",
    "                flipkart_url='https://flipkart.com/search?q='\n",
    "                amazon_url='https://amazon.in/s?k='\n",
    "                web.open_new(flipkart_url + item)\n",
    "                web.open_new_tab(amazon_url + item)\n",
    "            flag = False \n",
    "        if 'hey google' in text:\n",
    "            flag= True\n",
    "        elif 'quit' in text:\n",
    "            break\n",
    "    except Exception as err:\n",
    "        print(err)  \n"
   ]
  },
  {
   "cell_type": "code",
   "execution_count": 27,
   "metadata": {},
   "outputs": [],
   "source": [
    "#chatbot\n",
    "from nltk.chat.util import Chat"
   ]
  },
  {
   "cell_type": "code",
   "execution_count": 28,
   "metadata": {},
   "outputs": [],
   "source": [
    "q1 = r'What is your name'\n",
    "a1=['My name is chatchat']\n",
    "q2=r'Kya aaj kuch aacha hoga'\n",
    "a2=['haan','mujhe kya pata','mein kyu btau']\n",
    "qa_pair=[\n",
    "    [q1,a1],\n",
    "    [q2,a2],\n",
    "]\n",
    "cb=Chat(qa_pair)"
   ]
  },
  {
   "cell_type": "code",
   "execution_count": 31,
   "metadata": {},
   "outputs": [
    {
     "name": "stdout",
     "output_type": "stream",
     "text": [
      "mein kyu btau\n"
     ]
    }
   ],
   "source": [
    "ques=input('enter ques')\n",
    "resp=cb.respond(ques)\n",
    "print(resp)"
   ]
  },
  {
   "cell_type": "code",
   "execution_count": 32,
   "metadata": {},
   "outputs": [],
   "source": [
    "#Regular Expressions\n",
    "########################\n",
    "#()        capture & group \n",
    "#.         Any character (except new line)\n",
    "#*         zero or more occurrences\n",
    "#|          or\n",
    "#[]         set of characters\n",
    "#a-z\n",
    "#A-Z\n",
    "#0-9\n",
    "#^          starting with\n",
    "#$          ends with\n",
    "#?          zero or one occurrence\n",
    "#+           one or more occurrence\n",
    "#{}          exact number of occurrence\n",
    "#\\w          only word character\n",
    "#\\W          not word character"
   ]
  },
  {
   "cell_type": "code",
   "execution_count": null,
   "metadata": {},
   "outputs": [],
   "source": [
    "from nltk.chat.util import Chat\n",
    "import speech_recognition as sr\n",
    "import pyttsx3\n",
    "\n",
    "q1 = r'(.*)your name (.*)company(.*)'\n",
    "a1 = ['my name is chatchat','I am chatchat']\n",
    "q2 = r'kya aaj kuch achha hoga'\n",
    "a2 = ['haan','mujhe kya pata','mein kyo batau']\n",
    "qa_pair = [\n",
    "    [q1,a1],\n",
    "    [q2,a2],\n",
    "]\n",
    "cb = Chat(qa_pair)\n",
    "tts = pyttsx3.init()\n",
    "rec = sr.Recognizer()\n",
    "while True:\n",
    "    with sr.Microphone() as mic:\n",
    "        print('Speak:')\n",
    "        audio = rec.listen(mic,phrase_time_limit=3,timeout=5)\n",
    "        try:\n",
    "            text = rec.recognize_google(audio).lower()\n",
    "            print(text)\n",
    "            if flag == True:\n",
    "                if 'search' in text:\n",
    "                    \n",
    "                    # text='search iphone on flipkart'\n",
    "                    item = text.split('search')[-1].strip()\n",
    "                    flipkart_url = 'https://flipkart.com/search?q='\n",
    "                    amazon_url = 'https://amazon.in/s?k='\n",
    "                    web.open_new(flipkart_url + item)\n",
    "                    web.open_new_tab(amazon_url + item)\n",
    "                else:\n",
    "                    resp = cb.respond(text)\n",
    "                    if resp == None:\n",
    "                        tts.say('Sorry, I dont know')\n",
    "                    else:\n",
    "                        tts.say(resp)\n",
    "                    tts.runAndWait()\n",
    "                flag = False\n",
    "            if 'hey google' in text:\n",
    "                flag = True\n",
    "            elif 'quit' in text: \n",
    "                break\n",
    "        except Exception as err:\n",
    "            print(err)\n"
   ]
  }
 ],
 "metadata": {
  "kernelspec": {
   "display_name": "Python 3",
   "language": "python",
   "name": "python3"
  },
  "language_info": {
   "codemirror_mode": {
    "name": "ipython",
    "version": 3
   },
   "file_extension": ".py",
   "mimetype": "text/x-python",
   "name": "python",
   "nbconvert_exporter": "python",
   "pygments_lexer": "ipython3",
   "version": "3.9.6"
  },
  "orig_nbformat": 4
 },
 "nbformat": 4,
 "nbformat_minor": 2
}
